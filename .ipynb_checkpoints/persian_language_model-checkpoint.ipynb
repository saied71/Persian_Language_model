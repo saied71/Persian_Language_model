{
 "cells": [
  {
   "cell_type": "code",
   "execution_count": null,
   "metadata": {
    "colab": {},
    "colab_type": "code",
    "id": "TrrvTTE-QUdx"
   },
   "outputs": [],
   "source": [
    "import re\n",
    "import numpy as np\n",
    "from keras.preprocessing.text import Tokenizer\n",
    "from keras.models import Sequential\n",
    "from keras.layers.embeddings import Embedding\n",
    "from keras.layers import Dense, LSTM\n",
    "from keras.callbacks import ModelCheckpoint\n",
    "from keras.utils import to_categorical, plot_model\n",
    "from keras.models import load_model\n",
    "from keras.preprocessing.sequence import pad_sequences\n",
    "import random"
   ]
  },
  {
   "cell_type": "code",
   "execution_count": null,
   "metadata": {},
   "outputs": [],
   "source": [
    "with open(\"sample1.txt\", \"r\") as file:\n",
    "    data = file.read()"
   ]
  },
  {
   "cell_type": "code",
   "execution_count": null,
   "metadata": {
    "colab": {},
    "colab_type": "code",
    "id": "s1SWXX2-QUgk"
   },
   "outputs": [],
   "source": [
    "def cleaning_data(data):\n",
    "    data = re.sub(\"[\\\\u202c]\", \"\", data)\n",
    "    data = re.sub(\"[\\\\u202b]\", \"\", data)\n",
    "    data = re.sub(\"[\\\\u202a]\", \"\", data)\n",
    "    data = re.sub(\"[\\\\ufeff]\", \"\", data)\n",
    "    data = re.sub(\"[\\\\u200d]\", \"\", data)\n",
    "    data = re.sub(\"[\\\\uf089]\", \"\", data)\n",
    "    data = re.sub(\"[\\\\u200f]\", \"\", data)\n",
    "    data = re.sub(\"[\\\\u200b]\", \"\", data)\n",
    "    data = re.sub(\"[\\\\uf08b]\", \"\", data)\n",
    "    data = re.sub(\"[\\\\uf08c]\", \"\", data)\n",
    "    data = re.sub(\"[\\d]\", \" \", data)\n",
    "    data = re.sub(\"[\\s]\", \" \", data)\n",
    "    data = re.sub('[/(){}\\[\\]\\|@,;!٪×،*ـ+؟؛\"\" ... .. . <> _ - :]', \" \", data)\n",
    "    data = re.sub('[!٬٫﷼٪×*)(ـ+}|؛؟<>‌ ÷؛«» \"\" - �]', \" \", data)\n",
    "    return data.split()"
   ]
  },
  {
   "cell_type": "code",
   "execution_count": null,
   "metadata": {
    "colab": {
     "base_uri": "https://localhost:8080/",
     "height": 34
    },
    "colab_type": "code",
    "executionInfo": {
     "elapsed": 28673,
     "status": "ok",
     "timestamp": 1590996806985,
     "user": {
      "displayName": "Saied Alimoradi",
      "photoUrl": "",
      "userId": "13379941490066295525"
     },
     "user_tz": -270
    },
    "id": "zDNYEWt7QUjg",
    "outputId": "088bd608-6bac-4ddd-8c04-e563353f767e"
   },
   "outputs": [],
   "source": [
    "tokens = cleaning_data(data)\n",
    "len(tokens)"
   ]
  },
  {
   "cell_type": "code",
   "execution_count": null,
   "metadata": {
    "colab": {
     "base_uri": "https://localhost:8080/",
     "height": 51
    },
    "colab_type": "code",
    "executionInfo": {
     "elapsed": 28662,
     "status": "ok",
     "timestamp": 1590996806990,
     "user": {
      "displayName": "Saied Alimoradi",
      "photoUrl": "",
      "userId": "13379941490066295525"
     },
     "user_tz": -270
    },
    "id": "4-X8bnB6TGG9",
    "outputId": "c83df603-d615-4fab-887a-43be9d802792"
   },
   "outputs": [],
   "source": [
    "print(\"total tokens: {}\".format(len(tokens)))\n",
    "print(\"unique tokens: {}\".format(len(set(tokens))))"
   ]
  },
  {
   "cell_type": "code",
   "execution_count": null,
   "metadata": {
    "colab": {},
    "colab_type": "code",
    "id": "iZEgUInHn5MG"
   },
   "outputs": [],
   "source": [
    "train_len = 25+1 # 50 training words , then one target word\n",
    "\n",
    "text_sequences = []\n",
    "\n",
    "for i in range(train_len, len(tokens)):\n",
    "    \n",
    "    seq = tokens[i-train_len:i]\n",
    "    \n",
    "    text_sequences.append(seq)"
   ]
  },
  {
   "cell_type": "code",
   "execution_count": null,
   "metadata": {
    "colab": {
     "base_uri": "https://localhost:8080/",
     "height": 34
    },
    "colab_type": "code",
    "executionInfo": {
     "elapsed": 28646,
     "status": "ok",
     "timestamp": 1590996806994,
     "user": {
      "displayName": "Saied Alimoradi",
      "photoUrl": "",
      "userId": "13379941490066295525"
     },
     "user_tz": -270
    },
    "id": "ILU4sYJan5PK",
    "outputId": "d1adb53d-fd79-43ee-822a-f6b78b4043d9"
   },
   "outputs": [],
   "source": [
    "len(text_sequences)"
   ]
  },
  {
   "cell_type": "code",
   "execution_count": null,
   "metadata": {
    "colab": {},
    "colab_type": "code",
    "id": "CG15oErLT_Ak"
   },
   "outputs": [],
   "source": [
    "tokenizer = Tokenizer()\n",
    "tokenizer.fit_on_texts(text_sequences)\n",
    "sequences = tokenizer.texts_to_sequences(text_sequences)"
   ]
  },
  {
   "cell_type": "code",
   "execution_count": null,
   "metadata": {
    "colab": {
     "base_uri": "https://localhost:8080/",
     "height": 34
    },
    "colab_type": "code",
    "executionInfo": {
     "elapsed": 33782,
     "status": "ok",
     "timestamp": 1590996812160,
     "user": {
      "displayName": "Saied Alimoradi",
      "photoUrl": "",
      "userId": "13379941490066295525"
     },
     "user_tz": -270
    },
    "id": "XdTV7RP7U58e",
    "outputId": "21c402ee-0b59-4440-fc43-b90c9f53dea0"
   },
   "outputs": [],
   "source": [
    "vocabulary_size = len(tokenizer.word_counts)\n",
    "print(\"Vocabulary size: \", vocabulary_size)"
   ]
  },
  {
   "cell_type": "code",
   "execution_count": null,
   "metadata": {
    "colab": {},
    "colab_type": "code",
    "id": "NUNZ0jAvVBI-"
   },
   "outputs": [],
   "source": [
    "sequences = np.array(sequences)"
   ]
  },
  {
   "cell_type": "code",
   "execution_count": null,
   "metadata": {
    "colab": {},
    "colab_type": "code",
    "id": "KUHeOMtqVBVJ"
   },
   "outputs": [],
   "source": [
    "def create_model(vocabulary_size, seq_len):\n",
    "    model = Sequential()\n",
    "    model.add(Embedding(vocabulary_size, 25, input_length=seq_len))\n",
    "    model.add(LSTM(150, return_sequences=True))\n",
    "    model.add(LSTM(150))\n",
    "    model.add(Dense(150, activation='relu'))\n",
    "\n",
    "    model.add(Dense(vocabulary_size, activation='softmax'))\n",
    "    \n",
    "    model.compile(loss='categorical_crossentropy', optimizer='adam', metrics=['accuracy'])\n",
    "   \n",
    "    model.summary()\n",
    "    plot_model(model, to_file=\"model.png\")\n",
    "    \n",
    "    return model"
   ]
  },
  {
   "cell_type": "code",
   "execution_count": null,
   "metadata": {
    "colab": {},
    "colab_type": "code",
    "id": "zrS21o1zVrdX"
   },
   "outputs": [],
   "source": [
    "X = sequences[:,:-1]"
   ]
  },
  {
   "cell_type": "code",
   "execution_count": null,
   "metadata": {
    "colab": {},
    "colab_type": "code",
    "id": "WUMQoKSvVv73"
   },
   "outputs": [],
   "source": [
    "y = sequences[:,-1]"
   ]
  },
  {
   "cell_type": "code",
   "execution_count": null,
   "metadata": {
    "colab": {},
    "colab_type": "code",
    "id": "GhrfsQY3quZI"
   },
   "outputs": [],
   "source": [
    "y = to_categorical(y, num_classes=vocabulary_size+1)"
   ]
  },
  {
   "cell_type": "code",
   "execution_count": null,
   "metadata": {
    "colab": {},
    "colab_type": "code",
    "id": "lEHVVLcaqxSq"
   },
   "outputs": [],
   "source": [
    "seq_len = X.shape[1]"
   ]
  },
  {
   "cell_type": "code",
   "execution_count": null,
   "metadata": {
    "colab": {
     "base_uri": "https://localhost:8080/",
     "height": 323
    },
    "colab_type": "code",
    "executionInfo": {
     "elapsed": 45997,
     "status": "ok",
     "timestamp": 1590996824422,
     "user": {
      "displayName": "Saied Alimoradi",
      "photoUrl": "",
      "userId": "13379941490066295525"
     },
     "user_tz": -270
    },
    "id": "RoVGqGRNqzM_",
    "outputId": "592da866-db87-401c-b72f-5e77d8e1d213"
   },
   "outputs": [],
   "source": [
    "model = create_model(vocabulary_size+1, seq_len)"
   ]
  },
  {
   "cell_type": "code",
   "execution_count": null,
   "metadata": {
    "colab": {
     "base_uri": "https://localhost:8080/",
     "height": 1000
    },
    "colab_type": "code",
    "executionInfo": {
     "elapsed": 9444299,
     "status": "ok",
     "timestamp": 1591006222758,
     "user": {
      "displayName": "Saied Alimoradi",
      "photoUrl": "",
      "userId": "13379941490066295525"
     },
     "user_tz": -270
    },
    "id": "TaTmtaw5AJDD",
    "outputId": "ff207ade-5b63-4633-9ebe-33d23026feec"
   },
   "outputs": [],
   "source": [
    "checkpoint = ModelCheckpoint(\"model.h5\", monitor = 'loss', save_best_only = True, mode = 'min') \n",
    "model.fit(X, y, batch_size=128, epochs=250,verbose=1, callbacks=[checkpoint])"
   ]
  },
  {
   "cell_type": "code",
   "execution_count": null,
   "metadata": {
    "colab": {},
    "colab_type": "code",
    "id": "oE4N5uTyqjHr"
   },
   "outputs": [],
   "source": [
    "model.save(\"final_model.h5\")"
   ]
  },
  {
   "cell_type": "code",
   "execution_count": null,
   "metadata": {
    "colab": {
     "base_uri": "https://localhost:8080/",
     "height": 71
    },
    "colab_type": "code",
    "executionInfo": {
     "elapsed": 3833,
     "status": "ok",
     "timestamp": 1591006550187,
     "user": {
      "displayName": "Saied Alimoradi",
      "photoUrl": "",
      "userId": "13379941490066295525"
     },
     "user_tz": -270
    },
    "id": "VC0Ai3iVX1CD",
    "outputId": "bd607a24-49b5-41f1-9462-8c61705bf252"
   },
   "outputs": [],
   "source": [
    "final_model = load_model(\"final_model.h5\")"
   ]
  },
  {
   "cell_type": "code",
   "execution_count": null,
   "metadata": {
    "colab": {},
    "colab_type": "code",
    "id": "2zNaZrCaYg6_"
   },
   "outputs": [],
   "source": [
    "def generate_text(model, tokenizer, seq_len, seed_text, num_gen_words):\n",
    "    '''\n",
    "    INPUTS:\n",
    "    model : model that was trained on text data\n",
    "    tokenizer : tokenizer that was fit on text data\n",
    "    seq_len : length of training sequence\n",
    "    seed_text : raw string text to serve as the seed\n",
    "    num_gen_words : number of words to be generated by model\n",
    "    '''\n",
    "    \n",
    "    output_text = []\n",
    "    \n",
    "    input_text = seed_text\n",
    "    \n",
    "    for i in range(num_gen_words):\n",
    "\n",
    "        encoded_text = tokenizer.texts_to_sequences([input_text])[0]\n",
    "        \n",
    "        pad_encoded = pad_sequences([encoded_text], maxlen=seq_len, truncating='pre')\n",
    "        \n",
    "        pred_word_ind = model.predict_classes(pad_encoded, verbose=0)[0]\n",
    "        \n",
    "        pred_word = tokenizer.index_word[pred_word_ind] \n",
    "        \n",
    "        input_text += ' ' + pred_word\n",
    "        \n",
    "        output_text.append(pred_word)\n",
    "        \n",
    "    return ' '.join(output_text)"
   ]
  },
  {
   "cell_type": "code",
   "execution_count": null,
   "metadata": {
    "colab": {},
    "colab_type": "code",
    "id": "f0rwQIuWZ0f6"
   },
   "outputs": [],
   "source": [
    "random.seed(101)\n",
    "random_pick = random.randint(0,len(text_sequences))"
   ]
  },
  {
   "cell_type": "code",
   "execution_count": null,
   "metadata": {
    "colab": {},
    "colab_type": "code",
    "id": "Ux8583hVZ5vh"
   },
   "outputs": [],
   "source": [
    "random_seed_text = text_sequences[random_pick]"
   ]
  },
  {
   "cell_type": "code",
   "execution_count": null,
   "metadata": {
    "colab": {},
    "colab_type": "code",
    "id": "WTyLJBbgaBV3"
   },
   "outputs": [],
   "source": [
    "seed_text = ' '.join(random_seed_text)"
   ]
  },
  {
   "cell_type": "code",
   "execution_count": null,
   "metadata": {
    "colab": {
     "base_uri": "https://localhost:8080/",
     "height": 34
    },
    "colab_type": "code",
    "executionInfo": {
     "elapsed": 1079,
     "status": "ok",
     "timestamp": 1591007099078,
     "user": {
      "displayName": "Saied Alimoradi",
      "photoUrl": "",
      "userId": "13379941490066295525"
     },
     "user_tz": -270
    },
    "id": "DcE6ZXnkaHrM",
    "outputId": "4321b42b-cbb6-4060-f0fd-261071c61656"
   },
   "outputs": [],
   "source": [
    "generate_text(final_model,tokenizer,seq_len,seed_text=seed_text,num_gen_words=10)"
   ]
  }
 ],
 "metadata": {
  "accelerator": "GPU",
  "colab": {
   "authorship_tag": "ABX9TyOdCFWVocbpiAQUTYptC7RO",
   "collapsed_sections": [],
   "name": "Untitled0.ipynb",
   "provenance": []
  },
  "kernelspec": {
   "display_name": "Python 3",
   "language": "python",
   "name": "python3"
  },
  "language_info": {
   "codemirror_mode": {
    "name": "ipython",
    "version": 3
   },
   "file_extension": ".py",
   "mimetype": "text/x-python",
   "name": "python",
   "nbconvert_exporter": "python",
   "pygments_lexer": "ipython3",
   "version": "3.6.9"
  }
 },
 "nbformat": 4,
 "nbformat_minor": 1
}
